{
 "cells": [
  {
   "cell_type": "code",
   "execution_count": 7,
   "id": "6de767cd",
   "metadata": {},
   "outputs": [
    {
     "name": "stdout",
     "output_type": "stream",
     "text": [
      "All palindromic substrings: ['alayala', 'a', 'm', 'l', 'y', 'ala', 'malayalam', 'layal', 'aya']\n"
     ]
    }
   ],
   "source": [
    "def find_all_palindromic_substrings(s):\n",
    "    n = len(s)\n",
    "    result = set()\n",
    "\n",
    "    def expand(center_left, center_right):\n",
    "        while center_left >= 0 and center_right < n and s[center_left] == s[center_right]:\n",
    "            result.add(s[center_left:center_right + 1])\n",
    "            center_left -= 1\n",
    "            center_right += 1\n",
    "\n",
    "    for center in range(n):\n",
    "        # Odd-length palindromes\n",
    "        expand(center, center)\n",
    "        # Even-length palindromes\n",
    "        expand(center, center + 1)\n",
    "\n",
    "    return list(result)\n",
    "\n",
    "# Example usage:\n",
    "s = \"malayalam\"\n",
    "palindromes = find_all_palindromic_substrings(s)\n",
    "print(\"All palindromic substrings:\", palindromes)\n",
    "\n",
    "# Time complexity: O(n²) — each center expands outward.\n",
    "\n",
    "# Space complexity: O(n²) in worst case (if many substrings are palindromic).\n"
   ]
  },
  {
   "cell_type": "code",
   "execution_count": null,
   "id": "6c0cf96e",
   "metadata": {},
   "outputs": [],
   "source": []
  }
 ],
 "metadata": {
  "kernelspec": {
   "display_name": "Python 3 (ipykernel)",
   "language": "python",
   "name": "python3"
  },
  "language_info": {
   "codemirror_mode": {
    "name": "ipython",
    "version": 3
   },
   "file_extension": ".py",
   "mimetype": "text/x-python",
   "name": "python",
   "nbconvert_exporter": "python",
   "pygments_lexer": "ipython3",
   "version": "3.11.5"
  }
 },
 "nbformat": 4,
 "nbformat_minor": 5
}
