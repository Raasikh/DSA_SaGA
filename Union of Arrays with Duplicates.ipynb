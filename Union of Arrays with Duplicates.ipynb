{
 "cells": [
  {
   "cell_type": "code",
   "execution_count": 2,
   "id": "bd93d41a",
   "metadata": {},
   "outputs": [
    {
     "name": "stdout",
     "output_type": "stream",
     "text": [
      "5\n"
     ]
    }
   ],
   "source": [
    "class Solution:    \n",
    "    # Function to return the count of number of elements in union of two arrays.\n",
    "    def findUnion(self, a, b):\n",
    "        # Use a set to store unique elements from both arrays\n",
    "        union_set = set()\n",
    "        \n",
    "        # Add elements from the first array\n",
    "        for elem in a:\n",
    "            union_set.add(elem)\n",
    "        \n",
    "        # Add elements from the second array\n",
    "        for elem in b:\n",
    "            union_set.add(elem)\n",
    "        \n",
    "        # Return the count of unique elements\n",
    "        return len(union_set)\n",
    "\n",
    "# Example usage\n",
    "sol = Solution()\n",
    "a = [1, 2, 3, 4, 5]\n",
    "b = [1, 2, 3]\n",
    "# print(sol.findUnion(a, b))  # Output: 7\n",
    "\n",
    "# Approach\t      Time Complexity\tSpace Complexity\n",
    "# Set-based (Unsorted)\tO(n + m)\tO(n + m)"
   ]
  },
  {
   "cell_type": "code",
   "execution_count": null,
   "id": "1fe446da",
   "metadata": {},
   "outputs": [],
   "source": []
  }
 ],
 "metadata": {
  "kernelspec": {
   "display_name": "Python 3 (ipykernel)",
   "language": "python",
   "name": "python3"
  },
  "language_info": {
   "codemirror_mode": {
    "name": "ipython",
    "version": 3
   },
   "file_extension": ".py",
   "mimetype": "text/x-python",
   "name": "python",
   "nbconvert_exporter": "python",
   "pygments_lexer": "ipython3",
   "version": "3.11.5"
  }
 },
 "nbformat": 4,
 "nbformat_minor": 5
}
