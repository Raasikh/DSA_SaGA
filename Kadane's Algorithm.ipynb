{
 "cells": [
  {
   "cell_type": "code",
   "execution_count": 2,
   "id": "df2aa657",
   "metadata": {},
   "outputs": [
    {
     "name": "stdout",
     "output_type": "stream",
     "text": [
      "Max Sum: 7\n",
      "Subarray: [4, -1, -2, 1, 5]\n"
     ]
    }
   ],
   "source": [
    "class Solution:\n",
    "    def maxSubArraySum(self, arr):\n",
    "        max_sum = float('-inf')\n",
    "        current_sum = 0\n",
    "        \n",
    "        # Track start and end indices of the max subarray\n",
    "        start = end = temp_start = 0\n",
    "        \n",
    "        for i, num in enumerate(arr):\n",
    "            current_sum += num\n",
    "            \n",
    "            if current_sum > max_sum:\n",
    "                max_sum = current_sum\n",
    "                start = temp_start\n",
    "                end = i\n",
    "                \n",
    "            if current_sum < 0:\n",
    "                current_sum = 0\n",
    "                temp_start = i + 1  # Start new subarray\n",
    "                \n",
    "        # Return both the sum and the actual subarray\n",
    "        return max_sum, arr[start:end+1]\n",
    "\n",
    "# Example usage\n",
    "sol = Solution()\n",
    "arr = [-2, -3, 4, -1, -2, 1, 5, -3]\n",
    "max_sum, subarray = sol.maxSubArraySum(arr)\n",
    "print(f\"Max Sum: {max_sum}\")       # Output: 7\n",
    "print(f\"Subarray: {subarray}\")     # Output: [4, -1, -2, 1, 5]\n"
   ]
  },
  {
   "cell_type": "code",
   "execution_count": null,
   "id": "aab50d1a",
   "metadata": {},
   "outputs": [],
   "source": [
    "\n",
    "        \n",
    "        "
   ]
  }
 ],
 "metadata": {
  "kernelspec": {
   "display_name": "Python 3 (ipykernel)",
   "language": "python",
   "name": "python3"
  },
  "language_info": {
   "codemirror_mode": {
    "name": "ipython",
    "version": 3
   },
   "file_extension": ".py",
   "mimetype": "text/x-python",
   "name": "python",
   "nbconvert_exporter": "python",
   "pygments_lexer": "ipython3",
   "version": "3.11.5"
  }
 },
 "nbformat": 4,
 "nbformat_minor": 5
}
