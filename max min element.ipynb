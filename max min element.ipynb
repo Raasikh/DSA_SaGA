{
 "cells": [
  {
   "cell_type": "code",
   "execution_count": 12,
   "id": "7ab94a92",
   "metadata": {},
   "outputs": [
    {
     "name": "stdout",
     "output_type": "stream",
     "text": [
      "min number is: 2\n",
      "Max number. 9\n"
     ]
    }
   ],
   "source": [
    "def set_min(number):\n",
    "    minmum= number[0]\n",
    "    for num in number:\n",
    "        if num<minmum:\n",
    "             minmum= num\n",
    "    return minmum\n",
    "def set_max(number):\n",
    "    maxmum=number[0]\n",
    "    for num in number:\n",
    "        if num>maxmum:\n",
    "            maxmum= num\n",
    "    return maxmum\n",
    "\n",
    "number= [2,4,5,6,7,9]\n",
    "\n",
    "print(\"min number is:\",set_min(number))\n",
    "print(\"Max number.\", set_max(number))\n",
    "\n",
    "# Time Complexity\tO(n) — linear scan of the list\n",
    "# Space Complexity\tO(1) — constant extra space"
   ]
  },
  {
   "cell_type": "code",
   "execution_count": null,
   "id": "8edebd5a",
   "metadata": {},
   "outputs": [],
   "source": []
  }
 ],
 "metadata": {
  "kernelspec": {
   "display_name": "Python 3 (ipykernel)",
   "language": "python",
   "name": "python3"
  },
  "language_info": {
   "codemirror_mode": {
    "name": "ipython",
    "version": 3
   },
   "file_extension": ".py",
   "mimetype": "text/x-python",
   "name": "python",
   "nbconvert_exporter": "python",
   "pygments_lexer": "ipython3",
   "version": "3.11.5"
  }
 },
 "nbformat": 4,
 "nbformat_minor": 5
}
