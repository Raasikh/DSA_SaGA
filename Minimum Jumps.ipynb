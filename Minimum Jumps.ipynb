{
 "cells": [
  {
   "cell_type": "code",
   "execution_count": null,
   "id": "b2146e0e",
   "metadata": {},
   "outputs": [],
   "source": [
    "class Solution:\n",
    "    def minJumps(self, arr):\n",
    "        n = len(arr)\n",
    "        \n",
    "        # If the array has only one element, you're already at the end\n",
    "        if n <= 1:\n",
    "            return 0\n",
    "        \n",
    "        # If the first element is 0, you can't move anywhere\n",
    "        if arr[0] == 0:\n",
    "            return -1\n",
    "        \n",
    "        # Initialize variables\n",
    "        max_reach = arr[0]   # The farthest index reachable\n",
    "        step = arr[0]        # Steps remaining in the current jump\n",
    "        jumps = 1            # Number of jumps taken\n",
    "        \n",
    "        for i in range(1, n):\n",
    "            # Check if we've reached the end\n",
    "            if i == n - 1:\n",
    "                return jumps\n",
    "            \n",
    "            # Update max_reach\n",
    "            max_reach = max(max_reach, i + arr[i])\n",
    "            \n",
    "            # Use a step to move to the current position\n",
    "            step -= 1\n",
    "            \n",
    "            # If no more steps are left\n",
    "            if step == 0:\n",
    "                jumps += 1\n",
    "                # If current index is beyond max reach, we can't move further\n",
    "                if i >= max_reach:\n",
    "                    return -1\n",
    "                # Reinitialize steps for the new jump\n",
    "                step = max_reach - i\n",
    "        \n",
    "        return -1  # If end is not reachable\n",
    "    \n",
    "🔸 Time Complexity: O(n)\n",
    "🔸 Space Complexity: O(1)"
   ]
  }
 ],
 "metadata": {
  "kernelspec": {
   "display_name": "Python 3 (ipykernel)",
   "language": "python",
   "name": "python3"
  },
  "language_info": {
   "codemirror_mode": {
    "name": "ipython",
    "version": 3
   },
   "file_extension": ".py",
   "mimetype": "text/x-python",
   "name": "python",
   "nbconvert_exporter": "python",
   "pygments_lexer": "ipython3",
   "version": "3.11.5"
  }
 },
 "nbformat": 4,
 "nbformat_minor": 5
}
