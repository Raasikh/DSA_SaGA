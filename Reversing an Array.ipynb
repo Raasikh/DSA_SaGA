{
 "cells": [
  {
   "cell_type": "code",
   "execution_count": 3,
   "id": "92b78974",
   "metadata": {},
   "outputs": [
    {
     "name": "stdout",
     "output_type": "stream",
     "text": [
      "[7, 6, 5, 4, 1]\n"
     ]
    }
   ],
   "source": [
    "def reverse_array(arr):\n",
    "    left=0\n",
    "    right= len(arr)-1\n",
    "    \n",
    "    while left < right:\n",
    "        arr[left], arr[right] = arr[right], arr[left]\n",
    "        \n",
    "        \n",
    "        left +=1\n",
    "    \n",
    "        right-=1\n",
    "        \n",
    "    return arr\n",
    "    \n",
    "    \n",
    "arr=[1,4,5,6,7]\n",
    "\n",
    "print(reverse_array(arr))\n",
    "\n",
    "\n",
    "\n",
    "# Time Complexity\tO(n) — linear time\n",
    "# Space Complexity\tO(1) — constant extra space\n",
    "# Behavior\tModifies the input array in place"
   ]
  },
  {
   "cell_type": "code",
   "execution_count": null,
   "id": "8b972d95",
   "metadata": {},
   "outputs": [],
   "source": []
  }
 ],
 "metadata": {
  "kernelspec": {
   "display_name": "Python 3 (ipykernel)",
   "language": "python",
   "name": "python3"
  },
  "language_info": {
   "codemirror_mode": {
    "name": "ipython",
    "version": 3
   },
   "file_extension": ".py",
   "mimetype": "text/x-python",
   "name": "python",
   "nbconvert_exporter": "python",
   "pygments_lexer": "ipython3",
   "version": "3.11.5"
  }
 },
 "nbformat": 4,
 "nbformat_minor": 5
}
