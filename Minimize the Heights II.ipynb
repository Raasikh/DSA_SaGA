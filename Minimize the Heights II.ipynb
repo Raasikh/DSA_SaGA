{
 "cells": [
  {
   "cell_type": "code",
   "execution_count": null,
   "id": "6936045e",
   "metadata": {},
   "outputs": [],
   "source": [
    "class Solution:\n",
    "    def getMinDiff(self, arr, k):\n",
    "        n = len(arr)\n",
    "        if n == 1:\n",
    "            return 0\n",
    "        \n",
    "        # Sort the array\n",
    "        arr.sort()\n",
    "        \n",
    "        # Initialize answer with the difference of max and min without any changes\n",
    "        ans = arr[-1] - arr[0]\n",
    "        \n",
    "        # The smallest and largest after potential modifications\n",
    "        smallest = arr[0] + k\n",
    "        largest = arr[-1] - k\n",
    "        \n",
    "        for i in range(n - 1):\n",
    "            min_height = min(smallest, arr[i+1] - k)\n",
    "            max_height = max(largest, arr[i] + k)\n",
    "            \n",
    "            # Skip negative heights (if applicable)\n",
    "            if min_height < 0:\n",
    "                continue\n",
    "                \n",
    "            ans = min(ans, max_height - min_height)\n",
    "        \n",
    "        return ans\n",
    "\n",
    "# Example usage\n",
    "sol = Solution()\n",
    "arr = [1, 5, 8, 10]\n",
    "k = 2\n",
    "print(sol.getMinDiff(arr, k))  # Output: 5 (After modification: [3, 3, 6, 8])\n",
    "\n",
    "\n",
    "# 🔸 Time Complexity: O(n log n) (because of sorting)\n",
    "# 🔸 Space Complexity: O(1)"
   ]
  }
 ],
 "metadata": {
  "kernelspec": {
   "display_name": "Python 3 (ipykernel)",
   "language": "python",
   "name": "python3"
  },
  "language_info": {
   "codemirror_mode": {
    "name": "ipython",
    "version": 3
   },
   "file_extension": ".py",
   "mimetype": "text/x-python",
   "name": "python",
   "nbconvert_exporter": "python",
   "pygments_lexer": "ipython3",
   "version": "3.11.5"
  }
 },
 "nbformat": 4,
 "nbformat_minor": 5
}
