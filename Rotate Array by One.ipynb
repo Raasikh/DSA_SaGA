{
 "cells": [
  {
   "cell_type": "code",
   "execution_count": 10,
   "id": "3c0566cf",
   "metadata": {},
   "outputs": [
    {
     "name": "stdout",
     "output_type": "stream",
     "text": [
      "[5, 1, 2, 3, 4]\n"
     ]
    }
   ],
   "source": [
    "class Solution:\n",
    "    def rotate(self, arr):\n",
    "        n = len(arr)\n",
    "        if n == 0:\n",
    "            return\n",
    "        \n",
    "        # Store the last element\n",
    "        last = arr[-1]\n",
    "        \n",
    "        # Shift elements to the right\n",
    "        for i in range(n - 1, 0, -1):\n",
    "            arr[i] = arr[i - 1]\n",
    "        \n",
    "        # Place the last element at the start\n",
    "        arr[0] = last\n",
    "\n",
    "# Example usage:\n",
    "sol = Solution()\n",
    "arr = [1, 2, 3, 4, 5]\n",
    "sol.rotate(arr)\n",
    "print(arr)  # Output: [5, 1, 2, 3, 4]\n",
    "\n",
    "\n",
    "# 🔸 Time Complexity: O(n)\n",
    "# 🔸 Space Complexity: O(1) (in-place rotation)"
   ]
  },
  {
   "cell_type": "code",
   "execution_count": null,
   "id": "45b50969",
   "metadata": {},
   "outputs": [],
   "source": []
  },
  {
   "cell_type": "code",
   "execution_count": null,
   "id": "4ae4234c",
   "metadata": {},
   "outputs": [],
   "source": []
  }
 ],
 "metadata": {
  "kernelspec": {
   "display_name": "Python 3 (ipykernel)",
   "language": "python",
   "name": "python3"
  },
  "language_info": {
   "codemirror_mode": {
    "name": "ipython",
    "version": 3
   },
   "file_extension": ".py",
   "mimetype": "text/x-python",
   "name": "python",
   "nbconvert_exporter": "python",
   "pygments_lexer": "ipython3",
   "version": "3.11.5"
  }
 },
 "nbformat": 4,
 "nbformat_minor": 5
}
