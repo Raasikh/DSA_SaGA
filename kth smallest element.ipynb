{
 "cells": [
  {
   "cell_type": "code",
   "execution_count": null,
   "id": "fe63d3fe",
   "metadata": {},
   "outputs": [],
   "source": [
    "class Solution:\n",
     "    def kthsmallest(self, arr, k):\n",
     "        return self.quickselect(arr, 0, len(arr) - 1, k - 1)\n",
    "    \n",
    "    def quickselect(self, arr, left, right, k_smallest):\n",
    "        if left == right:\n",
    "            return arr[left]\n",
    "        pivot_index= self.partition(arr, left, right)\n",
    "        \n",
    "        if k_smallest== pivot_index:\n",
    "            return arr[k_smallest]\n",
     "        elif k_smallest < pivot_index:\n",
     "            return self.quickselect(arr, left, pivot_index - 1, k_smallest)\n",
     "        else:\n",
     "            return self.quickselect(arr, pivot_index + 1, right, k_smallest)\n",
    "        \n",
    "    def partition(self, arr, left, right):\n",
    "        pivot = arr[right]\n",
    "        i = left\n",
    "        for j in range(left, right):\n",
    "            if arr[j] <= pivot:\n",
    "                arr[i], arr[j] = arr[j], arr[i]\n",
    "                i += 1\n",
    "        arr[i], arr[right] = arr[right], arr[i]\n",
    "        return i\n",
    "\n",
    "# Example usage:\n",
    "sol = Solution()\n",
    "arr = [7, 10, 4, 3, 20, 15]\n",
    "k = 3\n",
     "print(f\"The {k}th smallest element is:\", sol.kthsmallest(arr, k))\n",
    "\n",
    "\n",
    "# Time (average)\tO(n)\n",
    "# Time (worst)\tO(n²)\n",
    "# Space\tO(1) extra (in-place)"
   ]
  }
 ],
 "metadata": {
  "kernelspec": {
   "display_name": "Python 3 (ipykernel)",
   "language": "python",
   "name": "python3"
  },
  "language_info": {
   "codemirror_mode": {
    "name": "ipython",
    "version": 3
   },
   "file_extension": ".py",
   "mimetype": "text/x-python",
   "name": "python",
   "nbconvert_exporter": "python",
   "pygments_lexer": "ipython3",
   "version": "3.11.5"
  }
 },
 "nbformat": 4,
 "nbformat_minor": 5
}
