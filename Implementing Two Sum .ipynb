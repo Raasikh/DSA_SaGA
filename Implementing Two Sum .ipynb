{
 "cells": [
  {
   "cell_type": "code",
   "execution_count": 4,
   "id": "008489e8",
   "metadata": {},
   "outputs": [
    {
     "name": "stdout",
     "output_type": "stream",
     "text": [
      "Indices of numbers that sum to target: [2, 3]\n"
     ]
    }
   ],
   "source": [
    "def two_sum(nums, target):\n",
    "    # Dictionary to store num: index pairs\n",
    "    num_map = {}\n",
    "    for index, num in enumerate(nums):\n",
    "        complement = target - num\n",
    "        if complement in num_map:\n",
    "            return [num_map[complement], index]\n",
    "        num_map[num] = index\n",
    "    return []  # If no solution is found (as a fallback)\n",
    "    \n",
    "# Example usage:\n",
    "nums = [2, 7, 11, 15]\n",
    "target = 26\n",
    "result = two_sum(nums, target)\n",
    "print(\"Indices of numbers that sum to target:\", result)\n",
    "# ⏱️ Time Complexity:\n",
    "# O(n) – Single pass through nums.\n",
    "\n",
    "# O(n) – Space for the hash map."
   ]
  },
  {
   "cell_type": "code",
   "execution_count": null,
   "id": "bb1097a1",
   "metadata": {},
   "outputs": [],
   "source": []
  }
 ],
 "metadata": {
  "kernelspec": {
   "display_name": "Python 3 (ipykernel)",
   "language": "python",
   "name": "python3"
  },
  "language_info": {
   "codemirror_mode": {
    "name": "ipython",
    "version": 3
   },
   "file_extension": ".py",
   "mimetype": "text/x-python",
   "name": "python",
   "nbconvert_exporter": "python",
   "pygments_lexer": "ipython3",
   "version": "3.11.5"
  }
 },
 "nbformat": 4,
 "nbformat_minor": 5
}
